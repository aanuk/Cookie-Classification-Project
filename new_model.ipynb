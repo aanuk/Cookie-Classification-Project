{
 "cells": [
  {
   "cell_type": "code",
   "execution_count": 1,
   "id": "9b00d56f",
   "metadata": {},
   "outputs": [],
   "source": [
    "import pandas as pd\n",
    "import os"
   ]
  },
  {
   "cell_type": "code",
   "execution_count": 2,
   "id": "71d9e8cf",
   "metadata": {},
   "outputs": [],
   "source": [
    "df = pd.read_csv(\"data_final.csv\")"
   ]
  },
  {
   "cell_type": "code",
   "execution_count": 3,
   "id": "70afe3fe",
   "metadata": {},
   "outputs": [
    {
     "data": {
      "text/html": [
       "<div>\n",
       "<style scoped>\n",
       "    .dataframe tbody tr th:only-of-type {\n",
       "        vertical-align: middle;\n",
       "    }\n",
       "\n",
       "    .dataframe tbody tr th {\n",
       "        vertical-align: top;\n",
       "    }\n",
       "\n",
       "    .dataframe thead th {\n",
       "        text-align: right;\n",
       "    }\n",
       "</style>\n",
       "<table border=\"1\" class=\"dataframe\">\n",
       "  <thead>\n",
       "    <tr style=\"text-align: right;\">\n",
       "      <th></th>\n",
       "      <th>name</th>\n",
       "      <th>value</th>\n",
       "      <th>domain</th>\n",
       "      <th>path</th>\n",
       "      <th>expires</th>\n",
       "      <th>size</th>\n",
       "      <th>httpOnly</th>\n",
       "      <th>secure</th>\n",
       "      <th>session</th>\n",
       "      <th>sameParty</th>\n",
       "      <th>sourceScheme</th>\n",
       "      <th>sourcePort</th>\n",
       "      <th>desc</th>\n",
       "      <th>category</th>\n",
       "      <th>sameSite</th>\n",
       "    </tr>\n",
       "  </thead>\n",
       "  <tbody>\n",
       "    <tr>\n",
       "      <th>0</th>\n",
       "      <td>_ga_LCREYHZKHN</td>\n",
       "      <td>GS1.2.1703155633.1.1.1703155634.0.0.0</td>\n",
       "      <td>.100datingsite.com</td>\n",
       "      <td>/</td>\n",
       "      <td>1.737716e+09</td>\n",
       "      <td>51</td>\n",
       "      <td>False</td>\n",
       "      <td>False</td>\n",
       "      <td>False</td>\n",
       "      <td>False</td>\n",
       "      <td>Secure</td>\n",
       "      <td>443</td>\n",
       "      <td>Unknown</td>\n",
       "      <td>Unknown</td>\n",
       "      <td>NaN</td>\n",
       "    </tr>\n",
       "    <tr>\n",
       "      <th>1</th>\n",
       "      <td>_gid</td>\n",
       "      <td>GA1.2.1609768839.1703155633</td>\n",
       "      <td>.100datingsite.com</td>\n",
       "      <td>/</td>\n",
       "      <td>1.703242e+09</td>\n",
       "      <td>31</td>\n",
       "      <td>False</td>\n",
       "      <td>False</td>\n",
       "      <td>False</td>\n",
       "      <td>False</td>\n",
       "      <td>Secure</td>\n",
       "      <td>443</td>\n",
       "      <td>_gid</td>\n",
       "      <td>Performance</td>\n",
       "      <td>NaN</td>\n",
       "    </tr>\n",
       "    <tr>\n",
       "      <th>2</th>\n",
       "      <td>_gat</td>\n",
       "      <td>1</td>\n",
       "      <td>.100datingsite.com</td>\n",
       "      <td>/</td>\n",
       "      <td>1.703156e+09</td>\n",
       "      <td>5</td>\n",
       "      <td>False</td>\n",
       "      <td>False</td>\n",
       "      <td>False</td>\n",
       "      <td>False</td>\n",
       "      <td>Secure</td>\n",
       "      <td>443</td>\n",
       "      <td>This cookie name is associated with Google Uni...</td>\n",
       "      <td>Performance</td>\n",
       "      <td>NaN</td>\n",
       "    </tr>\n",
       "    <tr>\n",
       "      <th>3</th>\n",
       "      <td>_ga</td>\n",
       "      <td>GA1.2.1594730030.1703155633</td>\n",
       "      <td>.100datingsite.com</td>\n",
       "      <td>/</td>\n",
       "      <td>1.737716e+09</td>\n",
       "      <td>30</td>\n",
       "      <td>False</td>\n",
       "      <td>False</td>\n",
       "      <td>False</td>\n",
       "      <td>False</td>\n",
       "      <td>Secure</td>\n",
       "      <td>443</td>\n",
       "      <td>This cookie name is associated with Google Uni...</td>\n",
       "      <td>Performance</td>\n",
       "      <td>NaN</td>\n",
       "    </tr>\n",
       "    <tr>\n",
       "      <th>4</th>\n",
       "      <td>_ga_W9X1GB1SVR</td>\n",
       "      <td>GS1.1.1703196321.1.1.1703196330.51.0.0</td>\n",
       "      <td>.104.com.tw</td>\n",
       "      <td>/</td>\n",
       "      <td>1.737756e+09</td>\n",
       "      <td>52</td>\n",
       "      <td>False</td>\n",
       "      <td>False</td>\n",
       "      <td>False</td>\n",
       "      <td>False</td>\n",
       "      <td>Secure</td>\n",
       "      <td>443</td>\n",
       "      <td>There is not yet any general information about...</td>\n",
       "      <td>Unknown</td>\n",
       "      <td>NaN</td>\n",
       "    </tr>\n",
       "    <tr>\n",
       "      <th>...</th>\n",
       "      <td>...</td>\n",
       "      <td>...</td>\n",
       "      <td>...</td>\n",
       "      <td>...</td>\n",
       "      <td>...</td>\n",
       "      <td>...</td>\n",
       "      <td>...</td>\n",
       "      <td>...</td>\n",
       "      <td>...</td>\n",
       "      <td>...</td>\n",
       "      <td>...</td>\n",
       "      <td>...</td>\n",
       "      <td>...</td>\n",
       "      <td>...</td>\n",
       "      <td>...</td>\n",
       "    </tr>\n",
       "    <tr>\n",
       "      <th>65290</th>\n",
       "      <td>_pxhd</td>\n",
       "      <td>7Zrw5YsFMOR5AfFuY/lqLzs5NsYkDEOIVH3ziwYGhUbaxZ...</td>\n",
       "      <td>zazzle.nl</td>\n",
       "      <td>/</td>\n",
       "      <td>1.733924e+09</td>\n",
       "      <td>202</td>\n",
       "      <td>False</td>\n",
       "      <td>True</td>\n",
       "      <td>False</td>\n",
       "      <td>False</td>\n",
       "      <td>Secure</td>\n",
       "      <td>443</td>\n",
       "      <td>There is not yet any general information about...</td>\n",
       "      <td>Unknown</td>\n",
       "      <td>NaN</td>\n",
       "    </tr>\n",
       "    <tr>\n",
       "      <th>65291</th>\n",
       "      <td>wfu</td>\n",
       "      <td>MTcwMzA4NjgyMHx4dFFsNHJpcDh5QloydzRsTDhfMThHVG...</td>\n",
       "      <td>zenwriting.net</td>\n",
       "      <td>/</td>\n",
       "      <td>1.718639e+09</td>\n",
       "      <td>127</td>\n",
       "      <td>True</td>\n",
       "      <td>True</td>\n",
       "      <td>False</td>\n",
       "      <td>False</td>\n",
       "      <td>Secure</td>\n",
       "      <td>443</td>\n",
       "      <td>Unknown</td>\n",
       "      <td>Unknown</td>\n",
       "      <td>NaN</td>\n",
       "    </tr>\n",
       "    <tr>\n",
       "      <th>65292</th>\n",
       "      <td>moo</td>\n",
       "      <td>Ild0K2M1KysrKzFRZVdMQW5PVW8rR2c9PSI%3D--2ca10f...</td>\n",
       "      <td>zurb.com</td>\n",
       "      <td>/</td>\n",
       "      <td>1.737715e+09</td>\n",
       "      <td>83</td>\n",
       "      <td>False</td>\n",
       "      <td>False</td>\n",
       "      <td>False</td>\n",
       "      <td>False</td>\n",
       "      <td>Secure</td>\n",
       "      <td>443</td>\n",
       "      <td>There is not yet any general information about...</td>\n",
       "      <td>Unknown</td>\n",
       "      <td>NaN</td>\n",
       "    </tr>\n",
       "    <tr>\n",
       "      <th>65293</th>\n",
       "      <td>_zurb_session</td>\n",
       "      <td>ejdvRjVoUExmWjkrK0ZNZ0pITjMvNVpRSlAvZWh0Rm10eE...</td>\n",
       "      <td>zurb.com</td>\n",
       "      <td>/</td>\n",
       "      <td>-1.000000e+00</td>\n",
       "      <td>319</td>\n",
       "      <td>True</td>\n",
       "      <td>False</td>\n",
       "      <td>True</td>\n",
       "      <td>False</td>\n",
       "      <td>Secure</td>\n",
       "      <td>443</td>\n",
       "      <td>Unknown</td>\n",
       "      <td>Unknown</td>\n",
       "      <td>NaN</td>\n",
       "    </tr>\n",
       "    <tr>\n",
       "      <th>65294</th>\n",
       "      <td>moocrypt</td>\n",
       "      <td>ImV5SnBkaUk2SWtkSlNHbDFMMlJJUkV4WlFYZzFTVTFHU2...</td>\n",
       "      <td>zurb.com</td>\n",
       "      <td>/</td>\n",
       "      <td>-1.000000e+00</td>\n",
       "      <td>184</td>\n",
       "      <td>False</td>\n",
       "      <td>False</td>\n",
       "      <td>True</td>\n",
       "      <td>False</td>\n",
       "      <td>Secure</td>\n",
       "      <td>443</td>\n",
       "      <td>Unknown</td>\n",
       "      <td>Unknown</td>\n",
       "      <td>NaN</td>\n",
       "    </tr>\n",
       "  </tbody>\n",
       "</table>\n",
       "<p>65295 rows × 15 columns</p>\n",
       "</div>"
      ],
      "text/plain": [
       "                 name                                              value  \\\n",
       "0      _ga_LCREYHZKHN              GS1.2.1703155633.1.1.1703155634.0.0.0   \n",
       "1                _gid                        GA1.2.1609768839.1703155633   \n",
       "2                _gat                                                  1   \n",
       "3                 _ga                        GA1.2.1594730030.1703155633   \n",
       "4      _ga_W9X1GB1SVR             GS1.1.1703196321.1.1.1703196330.51.0.0   \n",
       "...               ...                                                ...   \n",
       "65290           _pxhd  7Zrw5YsFMOR5AfFuY/lqLzs5NsYkDEOIVH3ziwYGhUbaxZ...   \n",
       "65291             wfu  MTcwMzA4NjgyMHx4dFFsNHJpcDh5QloydzRsTDhfMThHVG...   \n",
       "65292             moo  Ild0K2M1KysrKzFRZVdMQW5PVW8rR2c9PSI%3D--2ca10f...   \n",
       "65293   _zurb_session  ejdvRjVoUExmWjkrK0ZNZ0pITjMvNVpRSlAvZWh0Rm10eE...   \n",
       "65294        moocrypt  ImV5SnBkaUk2SWtkSlNHbDFMMlJJUkV4WlFYZzFTVTFHU2...   \n",
       "\n",
       "                   domain path       expires  size  httpOnly  secure  session  \\\n",
       "0      .100datingsite.com    /  1.737716e+09    51     False   False    False   \n",
       "1      .100datingsite.com    /  1.703242e+09    31     False   False    False   \n",
       "2      .100datingsite.com    /  1.703156e+09     5     False   False    False   \n",
       "3      .100datingsite.com    /  1.737716e+09    30     False   False    False   \n",
       "4             .104.com.tw    /  1.737756e+09    52     False   False    False   \n",
       "...                   ...  ...           ...   ...       ...     ...      ...   \n",
       "65290           zazzle.nl    /  1.733924e+09   202     False    True    False   \n",
       "65291      zenwriting.net    /  1.718639e+09   127      True    True    False   \n",
       "65292            zurb.com    /  1.737715e+09    83     False   False    False   \n",
       "65293            zurb.com    / -1.000000e+00   319      True   False     True   \n",
       "65294            zurb.com    / -1.000000e+00   184     False   False     True   \n",
       "\n",
       "       sameParty sourceScheme  sourcePort  \\\n",
       "0          False       Secure         443   \n",
       "1          False       Secure         443   \n",
       "2          False       Secure         443   \n",
       "3          False       Secure         443   \n",
       "4          False       Secure         443   \n",
       "...          ...          ...         ...   \n",
       "65290      False       Secure         443   \n",
       "65291      False       Secure         443   \n",
       "65292      False       Secure         443   \n",
       "65293      False       Secure         443   \n",
       "65294      False       Secure         443   \n",
       "\n",
       "                                                    desc      category  \\\n",
       "0                                                Unknown       Unknown   \n",
       "1                                                   _gid   Performance   \n",
       "2      This cookie name is associated with Google Uni...   Performance   \n",
       "3      This cookie name is associated with Google Uni...   Performance   \n",
       "4      There is not yet any general information about...       Unknown   \n",
       "...                                                  ...           ...   \n",
       "65290  There is not yet any general information about...       Unknown   \n",
       "65291                                            Unknown       Unknown   \n",
       "65292  There is not yet any general information about...       Unknown   \n",
       "65293                                            Unknown       Unknown   \n",
       "65294                                            Unknown       Unknown   \n",
       "\n",
       "      sameSite  \n",
       "0          NaN  \n",
       "1          NaN  \n",
       "2          NaN  \n",
       "3          NaN  \n",
       "4          NaN  \n",
       "...        ...  \n",
       "65290      NaN  \n",
       "65291      NaN  \n",
       "65292      NaN  \n",
       "65293      NaN  \n",
       "65294      NaN  \n",
       "\n",
       "[65295 rows x 15 columns]"
      ]
     },
     "execution_count": 3,
     "metadata": {},
     "output_type": "execute_result"
    }
   ],
   "source": [
    "df"
   ]
  },
  {
   "cell_type": "code",
   "execution_count": 4,
   "id": "8ff2128b",
   "metadata": {},
   "outputs": [
    {
     "data": {
      "text/plain": [
       "32387"
      ]
     },
     "execution_count": 4,
     "metadata": {},
     "output_type": "execute_result"
    }
   ],
   "source": [
    "len(df.name[df.category!=\" Unknown\"])"
   ]
  },
  {
   "cell_type": "code",
   "execution_count": 5,
   "id": "3a7a59d3",
   "metadata": {},
   "outputs": [
    {
     "data": {
      "text/plain": [
       "32908"
      ]
     },
     "execution_count": 5,
     "metadata": {},
     "output_type": "execute_result"
    }
   ],
   "source": [
    "(df['category'] == \" Unknown\").sum()"
   ]
  },
  {
   "cell_type": "code",
   "execution_count": 6,
   "id": "2f3b24b2",
   "metadata": {},
   "outputs": [
    {
     "data": {
      "text/plain": [
       "65295"
      ]
     },
     "execution_count": 6,
     "metadata": {},
     "output_type": "execute_result"
    }
   ],
   "source": [
    "len(df.category)"
   ]
  },
  {
   "cell_type": "code",
   "execution_count": 7,
   "id": "6c66baca",
   "metadata": {},
   "outputs": [
    {
     "data": {
      "text/plain": [
       "array([' Unknown', ' Performance', ' Targeting/Advertising',\n",
       "       ' Strictly Necessary', ' Functionality'], dtype=object)"
      ]
     },
     "execution_count": 7,
     "metadata": {},
     "output_type": "execute_result"
    }
   ],
   "source": [
    "df.category.unique()"
   ]
  },
  {
   "cell_type": "code",
   "execution_count": 8,
   "id": "5114fcb7",
   "metadata": {},
   "outputs": [
    {
     "data": {
      "text/plain": [
       "65295"
      ]
     },
     "execution_count": 8,
     "metadata": {},
     "output_type": "execute_result"
    }
   ],
   "source": [
    "len(df)"
   ]
  },
  {
   "cell_type": "code",
   "execution_count": 9,
   "id": "97158a86",
   "metadata": {},
   "outputs": [
    {
     "data": {
      "text/plain": [
       "65295"
      ]
     },
     "execution_count": 9,
     "metadata": {},
     "output_type": "execute_result"
    }
   ],
   "source": [
    "len(df[df.category == \" Unknown\"]) + len(df.name[df.category!=\" Unknown\"])"
   ]
  },
  {
   "cell_type": "code",
   "execution_count": 10,
   "id": "e8ef633f",
   "metadata": {},
   "outputs": [],
   "source": [
    "df_known_cat = df[df.category != \" Unknown\"]"
   ]
  },
  {
   "cell_type": "code",
   "execution_count": 11,
   "id": "54ef1041",
   "metadata": {},
   "outputs": [
    {
     "data": {
      "text/html": [
       "<div>\n",
       "<style scoped>\n",
       "    .dataframe tbody tr th:only-of-type {\n",
       "        vertical-align: middle;\n",
       "    }\n",
       "\n",
       "    .dataframe tbody tr th {\n",
       "        vertical-align: top;\n",
       "    }\n",
       "\n",
       "    .dataframe thead th {\n",
       "        text-align: right;\n",
       "    }\n",
       "</style>\n",
       "<table border=\"1\" class=\"dataframe\">\n",
       "  <thead>\n",
       "    <tr style=\"text-align: right;\">\n",
       "      <th></th>\n",
       "      <th>name</th>\n",
       "      <th>value</th>\n",
       "      <th>domain</th>\n",
       "      <th>path</th>\n",
       "      <th>expires</th>\n",
       "      <th>size</th>\n",
       "      <th>httpOnly</th>\n",
       "      <th>secure</th>\n",
       "      <th>session</th>\n",
       "      <th>sameParty</th>\n",
       "      <th>sourceScheme</th>\n",
       "      <th>sourcePort</th>\n",
       "      <th>desc</th>\n",
       "      <th>category</th>\n",
       "      <th>sameSite</th>\n",
       "    </tr>\n",
       "  </thead>\n",
       "  <tbody>\n",
       "    <tr>\n",
       "      <th>1</th>\n",
       "      <td>_gid</td>\n",
       "      <td>GA1.2.1609768839.1703155633</td>\n",
       "      <td>.100datingsite.com</td>\n",
       "      <td>/</td>\n",
       "      <td>1.703242e+09</td>\n",
       "      <td>31</td>\n",
       "      <td>False</td>\n",
       "      <td>False</td>\n",
       "      <td>False</td>\n",
       "      <td>False</td>\n",
       "      <td>Secure</td>\n",
       "      <td>443</td>\n",
       "      <td>_gid</td>\n",
       "      <td>Performance</td>\n",
       "      <td>NaN</td>\n",
       "    </tr>\n",
       "    <tr>\n",
       "      <th>2</th>\n",
       "      <td>_gat</td>\n",
       "      <td>1</td>\n",
       "      <td>.100datingsite.com</td>\n",
       "      <td>/</td>\n",
       "      <td>1.703156e+09</td>\n",
       "      <td>5</td>\n",
       "      <td>False</td>\n",
       "      <td>False</td>\n",
       "      <td>False</td>\n",
       "      <td>False</td>\n",
       "      <td>Secure</td>\n",
       "      <td>443</td>\n",
       "      <td>This cookie name is associated with Google Uni...</td>\n",
       "      <td>Performance</td>\n",
       "      <td>NaN</td>\n",
       "    </tr>\n",
       "    <tr>\n",
       "      <th>3</th>\n",
       "      <td>_ga</td>\n",
       "      <td>GA1.2.1594730030.1703155633</td>\n",
       "      <td>.100datingsite.com</td>\n",
       "      <td>/</td>\n",
       "      <td>1.737716e+09</td>\n",
       "      <td>30</td>\n",
       "      <td>False</td>\n",
       "      <td>False</td>\n",
       "      <td>False</td>\n",
       "      <td>False</td>\n",
       "      <td>Secure</td>\n",
       "      <td>443</td>\n",
       "      <td>This cookie name is associated with Google Uni...</td>\n",
       "      <td>Performance</td>\n",
       "      <td>NaN</td>\n",
       "    </tr>\n",
       "    <tr>\n",
       "      <th>5</th>\n",
       "      <td>_fbp</td>\n",
       "      <td>fb.2.1703196323660.2058557705</td>\n",
       "      <td>.104.com.tw</td>\n",
       "      <td>/</td>\n",
       "      <td>1.710972e+09</td>\n",
       "      <td>33</td>\n",
       "      <td>False</td>\n",
       "      <td>False</td>\n",
       "      <td>False</td>\n",
       "      <td>False</td>\n",
       "      <td>Secure</td>\n",
       "      <td>443</td>\n",
       "      <td>Used by Facebook to deliver a series of advert...</td>\n",
       "      <td>Targeting/Advertising</td>\n",
       "      <td>Lax</td>\n",
       "    </tr>\n",
       "    <tr>\n",
       "      <th>6</th>\n",
       "      <td>_clsk</td>\n",
       "      <td>166tg7v%7C1703196323932%7C1%7C0%7Cq.clarity.ms...</td>\n",
       "      <td>.104.com.tw</td>\n",
       "      <td>/</td>\n",
       "      <td>1.703283e+09</td>\n",
       "      <td>61</td>\n",
       "      <td>False</td>\n",
       "      <td>False</td>\n",
       "      <td>False</td>\n",
       "      <td>False</td>\n",
       "      <td>Secure</td>\n",
       "      <td>443</td>\n",
       "      <td>Used by Microsoft Clarity to connect multiple ...</td>\n",
       "      <td>Performance</td>\n",
       "      <td>NaN</td>\n",
       "    </tr>\n",
       "  </tbody>\n",
       "</table>\n",
       "</div>"
      ],
      "text/plain": [
       "    name                                              value  \\\n",
       "1   _gid                        GA1.2.1609768839.1703155633   \n",
       "2   _gat                                                  1   \n",
       "3    _ga                        GA1.2.1594730030.1703155633   \n",
       "5   _fbp                      fb.2.1703196323660.2058557705   \n",
       "6  _clsk  166tg7v%7C1703196323932%7C1%7C0%7Cq.clarity.ms...   \n",
       "\n",
       "               domain path       expires  size  httpOnly  secure  session  \\\n",
       "1  .100datingsite.com    /  1.703242e+09    31     False   False    False   \n",
       "2  .100datingsite.com    /  1.703156e+09     5     False   False    False   \n",
       "3  .100datingsite.com    /  1.737716e+09    30     False   False    False   \n",
       "5         .104.com.tw    /  1.710972e+09    33     False   False    False   \n",
       "6         .104.com.tw    /  1.703283e+09    61     False   False    False   \n",
       "\n",
       "   sameParty sourceScheme  sourcePort  \\\n",
       "1      False       Secure         443   \n",
       "2      False       Secure         443   \n",
       "3      False       Secure         443   \n",
       "5      False       Secure         443   \n",
       "6      False       Secure         443   \n",
       "\n",
       "                                                desc                category  \\\n",
       "1                                               _gid             Performance   \n",
       "2  This cookie name is associated with Google Uni...             Performance   \n",
       "3  This cookie name is associated with Google Uni...             Performance   \n",
       "5  Used by Facebook to deliver a series of advert...   Targeting/Advertising   \n",
       "6  Used by Microsoft Clarity to connect multiple ...             Performance   \n",
       "\n",
       "  sameSite  \n",
       "1      NaN  \n",
       "2      NaN  \n",
       "3      NaN  \n",
       "5      Lax  \n",
       "6      NaN  "
      ]
     },
     "execution_count": 11,
     "metadata": {},
     "output_type": "execute_result"
    }
   ],
   "source": [
    "df_known_cat.head()"
   ]
  },
  {
   "cell_type": "code",
   "execution_count": 12,
   "id": "6952734a",
   "metadata": {},
   "outputs": [
    {
     "data": {
      "text/plain": [
       "array([' Performance', ' Targeting/Advertising', ' Strictly Necessary',\n",
       "       ' Functionality'], dtype=object)"
      ]
     },
     "execution_count": 12,
     "metadata": {},
     "output_type": "execute_result"
    }
   ],
   "source": [
    "df_known_cat.category.unique()"
   ]
  },
  {
   "cell_type": "code",
   "execution_count": 13,
   "id": "e4604242",
   "metadata": {},
   "outputs": [
    {
     "data": {
      "text/plain": [
       "1        12\n",
       "2        12\n",
       "3        12\n",
       "5        22\n",
       "6        12\n",
       "         ..\n",
       "65262    19\n",
       "65273    19\n",
       "65282    19\n",
       "65286    19\n",
       "65288    19\n",
       "Name: category, Length: 32387, dtype: int64"
      ]
     },
     "execution_count": 13,
     "metadata": {},
     "output_type": "execute_result"
    }
   ],
   "source": [
    "df_known_cat.category.apply(lambda x : len(x))"
   ]
  },
  {
   "cell_type": "code",
   "execution_count": 14,
   "id": "4823ebe7",
   "metadata": {},
   "outputs": [],
   "source": [
    "import pandas as pd\n",
    "\n",
    "# Assuming df_known_cat is your DataFrame\n",
    "df_known_cat.loc[:, 'category'] = df_known_cat['category'].str.strip()"
   ]
  },
  {
   "cell_type": "code",
   "execution_count": 15,
   "id": "3d411088",
   "metadata": {},
   "outputs": [
    {
     "data": {
      "text/plain": [
       "array(['Performance', 'Targeting/Advertising', 'Strictly Necessary',\n",
       "       'Functionality'], dtype=object)"
      ]
     },
     "execution_count": 15,
     "metadata": {},
     "output_type": "execute_result"
    }
   ],
   "source": [
    "df_known_cat.category.unique()"
   ]
  },
  {
   "cell_type": "code",
   "execution_count": 16,
   "id": "7eb9f919",
   "metadata": {},
   "outputs": [
    {
     "data": {
      "text/plain": [
       "1             _gid\n",
       "2             _gat\n",
       "3              _ga\n",
       "5             _fbp\n",
       "6            _clsk\n",
       "           ...    \n",
       "65262    PHPSESSID\n",
       "65273        crumb\n",
       "65282    csrftoken\n",
       "65286    NSC_xxx01\n",
       "65288    NSC_xxx03\n",
       "Name: name, Length: 32387, dtype: object"
      ]
     },
     "execution_count": 16,
     "metadata": {},
     "output_type": "execute_result"
    }
   ],
   "source": [
    "df_known_cat.name"
   ]
  },
  {
   "cell_type": "code",
   "execution_count": 17,
   "id": "5dc86fa2",
   "metadata": {},
   "outputs": [
    {
     "data": {
      "text/plain": [
       "4634"
      ]
     },
     "execution_count": 17,
     "metadata": {},
     "output_type": "execute_result"
    }
   ],
   "source": [
    "len(df_known_cat.name.unique())"
   ]
  },
  {
   "cell_type": "code",
   "execution_count": 18,
   "id": "4ff8f03e",
   "metadata": {},
   "outputs": [
    {
     "data": {
      "text/plain": [
       "6898"
      ]
     },
     "execution_count": 18,
     "metadata": {},
     "output_type": "execute_result"
    }
   ],
   "source": [
    "len(df_known_cat.domain.unique())"
   ]
  },
  {
   "cell_type": "code",
   "execution_count": 19,
   "id": "fbf144f6",
   "metadata": {},
   "outputs": [
    {
     "data": {
      "text/plain": [
       "406"
      ]
     },
     "execution_count": 19,
     "metadata": {},
     "output_type": "execute_result"
    }
   ],
   "source": [
    "len(df_known_cat.desc.unique())"
   ]
  },
  {
   "cell_type": "code",
   "execution_count": 20,
   "id": "54f0017d",
   "metadata": {},
   "outputs": [
    {
     "data": {
      "text/plain": [
       "array([443,  80], dtype=int64)"
      ]
     },
     "execution_count": 20,
     "metadata": {},
     "output_type": "execute_result"
    }
   ],
   "source": [
    "df_known_cat.sourcePort.unique()"
   ]
  },
  {
   "cell_type": "code",
   "execution_count": 21,
   "id": "1e86d9b7",
   "metadata": {},
   "outputs": [
    {
     "data": {
      "text/plain": [
       "array(['Secure', 'NonSecure'], dtype=object)"
      ]
     },
     "execution_count": 21,
     "metadata": {},
     "output_type": "execute_result"
    }
   ],
   "source": [
    "df_known_cat.sourceScheme.unique()"
   ]
  },
  {
   "cell_type": "code",
   "execution_count": 22,
   "id": "1df74a79",
   "metadata": {},
   "outputs": [
    {
     "data": {
      "text/plain": [
       "array([False])"
      ]
     },
     "execution_count": 22,
     "metadata": {},
     "output_type": "execute_result"
    }
   ],
   "source": [
    "df_known_cat.sameParty.unique()"
   ]
  },
  {
   "cell_type": "code",
   "execution_count": 23,
   "id": "e80a1bd7",
   "metadata": {},
   "outputs": [
    {
     "data": {
      "text/plain": [
       "array([False,  True])"
      ]
     },
     "execution_count": 23,
     "metadata": {},
     "output_type": "execute_result"
    }
   ],
   "source": [
    "df_known_cat.session.unique()"
   ]
  },
  {
   "cell_type": "code",
   "execution_count": 24,
   "id": "ce310f00",
   "metadata": {},
   "outputs": [
    {
     "data": {
      "text/plain": [
       "array([False,  True])"
      ]
     },
     "execution_count": 24,
     "metadata": {},
     "output_type": "execute_result"
    }
   ],
   "source": [
    "df_known_cat.secure.unique()"
   ]
  },
  {
   "cell_type": "code",
   "execution_count": 25,
   "id": "5ca5528b",
   "metadata": {},
   "outputs": [
    {
     "data": {
      "text/plain": [
       "array([False,  True])"
      ]
     },
     "execution_count": 25,
     "metadata": {},
     "output_type": "execute_result"
    }
   ],
   "source": [
    "df_known_cat.httpOnly.unique()"
   ]
  },
  {
   "cell_type": "code",
   "execution_count": 26,
   "id": "b6272737",
   "metadata": {},
   "outputs": [
    {
     "data": {
      "text/plain": [
       "array(['/', '/de/de', '/learn/cookie-policy', '/chrome', '/de-de',\n",
       "       '/nl/publieksportaal', '/en', '/privacy', '/int/', '/de', '/de/',\n",
       "       '/legal', '/en-us/legal', '/carrier', '/s', '/Pages',\n",
       "       '/info/legal', '/about-us/policies', '/home/', '/main', '/pages'],\n",
       "      dtype=object)"
      ]
     },
     "execution_count": 26,
     "metadata": {},
     "output_type": "execute_result"
    }
   ],
   "source": [
    "df_known_cat.path.unique()"
   ]
  },
  {
   "cell_type": "code",
   "execution_count": 27,
   "id": "9c1d289e",
   "metadata": {},
   "outputs": [
    {
     "data": {
      "text/plain": [
       "24222"
      ]
     },
     "execution_count": 27,
     "metadata": {},
     "output_type": "execute_result"
    }
   ],
   "source": [
    "len(df_known_cat.expires.unique())"
   ]
  },
  {
   "cell_type": "code",
   "execution_count": 28,
   "id": "990efd27",
   "metadata": {},
   "outputs": [
    {
     "data": {
      "text/plain": [
       "desc\n",
       "This cookie name is associated with Google Universal Analytics - which is a significant update to Google's more commonly used analytics service. This cookie is used to distinguish unique users by assigning a randomly generated number as a client identifier. It is included in each page request in a site and used to calculate visitor, session and campaign data for the sites analytics reports.  By default it is set to expire after 2 years, although this is customisable by website owners.                                              3908\n",
       "_gid                                                                                                                                                                                                                                                                                                                                                                                                                                                                                                                                                   2757\n",
       "Google Analytics Cookies                                                                                                                                                                                                                                                                                                                                                                                                                                                                                                                               1564\n",
       "This cookie is set by the cookie compliance solution from OneTrust. It stores information about the categories of cookies the site uses and whether visitors have given or withdrawn consent for the use of each category. This enables site owners to prevent cookies in each category from being set in the users browser, when consent is not given. The cookie has a normal lifespan of one year, so that returning visitors to the site will have their preferences remembered. It contains no information that can identify the site visitor.    1350\n",
       "Used by Google AdSense for experimenting with advertisement efficiency across websites using their services                                                                                                                                                                                                                                                                                                                                                                                                                                            1332\n",
       "                                                                                                                                                                                                                                                                                                                                                                                                                                                                                                                                                       ... \n",
       "YouTube is a Google owned platform for hosting and sharing videos. YouTube collects user data through videos embedded in websites, which is aggregated with profile data from other Google services in order to display targeted advertising to web visitors across a broad range of their own and other websites.                                                                                                                                                                                                                                        1\n",
       "eDigital survey -  on-site survey tool uses these cookies to make sure  users are not targeted every time they visit the website.\\n                                                                                                                                                                                                                                                                                                                                                                                                                       1\n",
       "This is a Google Analytics cookie to analyse the performance of website.                                                                                                                                                                                                                                                                                                                                                                                                                                                                                  1\n",
       "x-ms-cpim-cache                                                                                                                                                                                                                                                                                                                                                                                                                                                                                                                                           1\n",
       "This cookie is used to track visitors across websites to build a profile of search and browsing history. \\n                                                                                                                                                                                                                                                                                                                                                                                                                                               1\n",
       "Name: count, Length: 405, dtype: int64"
      ]
     },
     "execution_count": 28,
     "metadata": {},
     "output_type": "execute_result"
    }
   ],
   "source": [
    "df_known_cat.desc.value_counts()"
   ]
  },
  {
   "cell_type": "code",
   "execution_count": 29,
   "id": "bc5d01d9",
   "metadata": {},
   "outputs": [
    {
     "data": {
      "text/html": [
       "<div>\n",
       "<style scoped>\n",
       "    .dataframe tbody tr th:only-of-type {\n",
       "        vertical-align: middle;\n",
       "    }\n",
       "\n",
       "    .dataframe tbody tr th {\n",
       "        vertical-align: top;\n",
       "    }\n",
       "\n",
       "    .dataframe thead th {\n",
       "        text-align: right;\n",
       "    }\n",
       "</style>\n",
       "<table border=\"1\" class=\"dataframe\">\n",
       "  <thead>\n",
       "    <tr style=\"text-align: right;\">\n",
       "      <th></th>\n",
       "      <th>name</th>\n",
       "      <th>value</th>\n",
       "      <th>domain</th>\n",
       "      <th>path</th>\n",
       "      <th>expires</th>\n",
       "      <th>size</th>\n",
       "      <th>httpOnly</th>\n",
       "      <th>secure</th>\n",
       "      <th>session</th>\n",
       "      <th>desc</th>\n",
       "      <th>category</th>\n",
       "      <th>sameSite</th>\n",
       "    </tr>\n",
       "  </thead>\n",
       "  <tbody>\n",
       "    <tr>\n",
       "      <th>1</th>\n",
       "      <td>_gid</td>\n",
       "      <td>GA1.2.1609768839.1703155633</td>\n",
       "      <td>.100datingsite.com</td>\n",
       "      <td>/</td>\n",
       "      <td>1.703242e+09</td>\n",
       "      <td>31</td>\n",
       "      <td>False</td>\n",
       "      <td>False</td>\n",
       "      <td>False</td>\n",
       "      <td>_gid</td>\n",
       "      <td>Performance</td>\n",
       "      <td>NaN</td>\n",
       "    </tr>\n",
       "    <tr>\n",
       "      <th>2</th>\n",
       "      <td>_gat</td>\n",
       "      <td>1</td>\n",
       "      <td>.100datingsite.com</td>\n",
       "      <td>/</td>\n",
       "      <td>1.703156e+09</td>\n",
       "      <td>5</td>\n",
       "      <td>False</td>\n",
       "      <td>False</td>\n",
       "      <td>False</td>\n",
       "      <td>This cookie name is associated with Google Uni...</td>\n",
       "      <td>Performance</td>\n",
       "      <td>NaN</td>\n",
       "    </tr>\n",
       "    <tr>\n",
       "      <th>3</th>\n",
       "      <td>_ga</td>\n",
       "      <td>GA1.2.1594730030.1703155633</td>\n",
       "      <td>.100datingsite.com</td>\n",
       "      <td>/</td>\n",
       "      <td>1.737716e+09</td>\n",
       "      <td>30</td>\n",
       "      <td>False</td>\n",
       "      <td>False</td>\n",
       "      <td>False</td>\n",
       "      <td>This cookie name is associated with Google Uni...</td>\n",
       "      <td>Performance</td>\n",
       "      <td>NaN</td>\n",
       "    </tr>\n",
       "    <tr>\n",
       "      <th>5</th>\n",
       "      <td>_fbp</td>\n",
       "      <td>fb.2.1703196323660.2058557705</td>\n",
       "      <td>.104.com.tw</td>\n",
       "      <td>/</td>\n",
       "      <td>1.710972e+09</td>\n",
       "      <td>33</td>\n",
       "      <td>False</td>\n",
       "      <td>False</td>\n",
       "      <td>False</td>\n",
       "      <td>Used by Facebook to deliver a series of advert...</td>\n",
       "      <td>Targeting/Advertising</td>\n",
       "      <td>Lax</td>\n",
       "    </tr>\n",
       "    <tr>\n",
       "      <th>6</th>\n",
       "      <td>_clsk</td>\n",
       "      <td>166tg7v%7C1703196323932%7C1%7C0%7Cq.clarity.ms...</td>\n",
       "      <td>.104.com.tw</td>\n",
       "      <td>/</td>\n",
       "      <td>1.703283e+09</td>\n",
       "      <td>61</td>\n",
       "      <td>False</td>\n",
       "      <td>False</td>\n",
       "      <td>False</td>\n",
       "      <td>Used by Microsoft Clarity to connect multiple ...</td>\n",
       "      <td>Performance</td>\n",
       "      <td>NaN</td>\n",
       "    </tr>\n",
       "    <tr>\n",
       "      <th>...</th>\n",
       "      <td>...</td>\n",
       "      <td>...</td>\n",
       "      <td>...</td>\n",
       "      <td>...</td>\n",
       "      <td>...</td>\n",
       "      <td>...</td>\n",
       "      <td>...</td>\n",
       "      <td>...</td>\n",
       "      <td>...</td>\n",
       "      <td>...</td>\n",
       "      <td>...</td>\n",
       "      <td>...</td>\n",
       "    </tr>\n",
       "    <tr>\n",
       "      <th>65262</th>\n",
       "      <td>PHPSESSID</td>\n",
       "      <td>sp3k29c3p4eft35idg07i1r9bu</td>\n",
       "      <td>www5.usp.br</td>\n",
       "      <td>/</td>\n",
       "      <td>-1.000000e+00</td>\n",
       "      <td>35</td>\n",
       "      <td>False</td>\n",
       "      <td>False</td>\n",
       "      <td>True</td>\n",
       "      <td>PHP session cookie associated with embedded co...</td>\n",
       "      <td>Strictly Necessary</td>\n",
       "      <td>NaN</td>\n",
       "    </tr>\n",
       "    <tr>\n",
       "      <th>65273</th>\n",
       "      <td>crumb</td>\n",
       "      <td>BdMirHLoDS89YzAzNjU4ODM3ZGVlNTBiNjVmMjFjMjY2ZD...</td>\n",
       "      <td>youradchoices.ca</td>\n",
       "      <td>/</td>\n",
       "      <td>-1.000000e+00</td>\n",
       "      <td>57</td>\n",
       "      <td>False</td>\n",
       "      <td>True</td>\n",
       "      <td>True</td>\n",
       "      <td>This cookie is associated with SquareSpace.  I...</td>\n",
       "      <td>Strictly Necessary</td>\n",
       "      <td>NaN</td>\n",
       "    </tr>\n",
       "    <tr>\n",
       "      <th>65282</th>\n",
       "      <td>csrftoken</td>\n",
       "      <td>LgSLVd0eOXMJYYUCLOCRkPkZbPXPD9gSu5yMz7x7rZwC8I...</td>\n",
       "      <td>zapier.com</td>\n",
       "      <td>/</td>\n",
       "      <td>1.734504e+09</td>\n",
       "      <td>73</td>\n",
       "      <td>False</td>\n",
       "      <td>True</td>\n",
       "      <td>False</td>\n",
       "      <td>This cookie is associated with the Django web ...</td>\n",
       "      <td>Strictly Necessary</td>\n",
       "      <td>NaN</td>\n",
       "    </tr>\n",
       "    <tr>\n",
       "      <th>65286</th>\n",
       "      <td>NSC_xxx01</td>\n",
       "      <td>4819a3deaedfe3205f0c2d3f4548c2478ecfe73d8d9287...</td>\n",
       "      <td>zazzle.com</td>\n",
       "      <td>/</td>\n",
       "      <td>-1.000000e+00</td>\n",
       "      <td>81</td>\n",
       "      <td>True</td>\n",
       "      <td>True</td>\n",
       "      <td>True</td>\n",
       "      <td>This cookie name is associated with the Netsca...</td>\n",
       "      <td>Strictly Necessary</td>\n",
       "      <td>NaN</td>\n",
       "    </tr>\n",
       "    <tr>\n",
       "      <th>65288</th>\n",
       "      <td>NSC_xxx03</td>\n",
       "      <td>7ce2a3d959dcb0dc573648361b1877ded04cb3a914b5e5...</td>\n",
       "      <td>zazzle.nl</td>\n",
       "      <td>/</td>\n",
       "      <td>-1.000000e+00</td>\n",
       "      <td>81</td>\n",
       "      <td>True</td>\n",
       "      <td>True</td>\n",
       "      <td>True</td>\n",
       "      <td>This cookie name is associated with the Netsca...</td>\n",
       "      <td>Strictly Necessary</td>\n",
       "      <td>NaN</td>\n",
       "    </tr>\n",
       "  </tbody>\n",
       "</table>\n",
       "<p>32387 rows × 12 columns</p>\n",
       "</div>"
      ],
      "text/plain": [
       "            name                                              value  \\\n",
       "1           _gid                        GA1.2.1609768839.1703155633   \n",
       "2           _gat                                                  1   \n",
       "3            _ga                        GA1.2.1594730030.1703155633   \n",
       "5           _fbp                      fb.2.1703196323660.2058557705   \n",
       "6          _clsk  166tg7v%7C1703196323932%7C1%7C0%7Cq.clarity.ms...   \n",
       "...          ...                                                ...   \n",
       "65262  PHPSESSID                         sp3k29c3p4eft35idg07i1r9bu   \n",
       "65273      crumb  BdMirHLoDS89YzAzNjU4ODM3ZGVlNTBiNjVmMjFjMjY2ZD...   \n",
       "65282  csrftoken  LgSLVd0eOXMJYYUCLOCRkPkZbPXPD9gSu5yMz7x7rZwC8I...   \n",
       "65286  NSC_xxx01  4819a3deaedfe3205f0c2d3f4548c2478ecfe73d8d9287...   \n",
       "65288  NSC_xxx03  7ce2a3d959dcb0dc573648361b1877ded04cb3a914b5e5...   \n",
       "\n",
       "                   domain path       expires  size  httpOnly  secure  session  \\\n",
       "1      .100datingsite.com    /  1.703242e+09    31     False   False    False   \n",
       "2      .100datingsite.com    /  1.703156e+09     5     False   False    False   \n",
       "3      .100datingsite.com    /  1.737716e+09    30     False   False    False   \n",
       "5             .104.com.tw    /  1.710972e+09    33     False   False    False   \n",
       "6             .104.com.tw    /  1.703283e+09    61     False   False    False   \n",
       "...                   ...  ...           ...   ...       ...     ...      ...   \n",
       "65262         www5.usp.br    / -1.000000e+00    35     False   False     True   \n",
       "65273    youradchoices.ca    / -1.000000e+00    57     False    True     True   \n",
       "65282          zapier.com    /  1.734504e+09    73     False    True    False   \n",
       "65286          zazzle.com    / -1.000000e+00    81      True    True     True   \n",
       "65288           zazzle.nl    / -1.000000e+00    81      True    True     True   \n",
       "\n",
       "                                                    desc  \\\n",
       "1                                                   _gid   \n",
       "2      This cookie name is associated with Google Uni...   \n",
       "3      This cookie name is associated with Google Uni...   \n",
       "5      Used by Facebook to deliver a series of advert...   \n",
       "6      Used by Microsoft Clarity to connect multiple ...   \n",
       "...                                                  ...   \n",
       "65262  PHP session cookie associated with embedded co...   \n",
       "65273  This cookie is associated with SquareSpace.  I...   \n",
       "65282  This cookie is associated with the Django web ...   \n",
       "65286  This cookie name is associated with the Netsca...   \n",
       "65288  This cookie name is associated with the Netsca...   \n",
       "\n",
       "                    category sameSite  \n",
       "1                Performance      NaN  \n",
       "2                Performance      NaN  \n",
       "3                Performance      NaN  \n",
       "5      Targeting/Advertising      Lax  \n",
       "6                Performance      NaN  \n",
       "...                      ...      ...  \n",
       "65262     Strictly Necessary      NaN  \n",
       "65273     Strictly Necessary      NaN  \n",
       "65282     Strictly Necessary      NaN  \n",
       "65286     Strictly Necessary      NaN  \n",
       "65288     Strictly Necessary      NaN  \n",
       "\n",
       "[32387 rows x 12 columns]"
      ]
     },
     "execution_count": 29,
     "metadata": {},
     "output_type": "execute_result"
    }
   ],
   "source": [
    "df_known_cat.drop(columns = [\"sourcePort\", \"sourceScheme\", \"sameParty\"], axis = 1)"
   ]
  },
  {
   "cell_type": "code",
   "execution_count": 30,
   "id": "6c1951f2",
   "metadata": {},
   "outputs": [],
   "source": [
    "df = df_known_cat.copy() # the df contains only the rows with known category"
   ]
  },
  {
   "cell_type": "code",
   "execution_count": 31,
   "id": "55c5ec02",
   "metadata": {},
   "outputs": [
    {
     "data": {
      "text/html": [
       "<div>\n",
       "<style scoped>\n",
       "    .dataframe tbody tr th:only-of-type {\n",
       "        vertical-align: middle;\n",
       "    }\n",
       "\n",
       "    .dataframe tbody tr th {\n",
       "        vertical-align: top;\n",
       "    }\n",
       "\n",
       "    .dataframe thead th {\n",
       "        text-align: right;\n",
       "    }\n",
       "</style>\n",
       "<table border=\"1\" class=\"dataframe\">\n",
       "  <thead>\n",
       "    <tr style=\"text-align: right;\">\n",
       "      <th></th>\n",
       "      <th>name</th>\n",
       "      <th>value</th>\n",
       "      <th>domain</th>\n",
       "      <th>path</th>\n",
       "      <th>expires</th>\n",
       "      <th>size</th>\n",
       "      <th>httpOnly</th>\n",
       "      <th>secure</th>\n",
       "      <th>session</th>\n",
       "      <th>sameParty</th>\n",
       "      <th>sourceScheme</th>\n",
       "      <th>sourcePort</th>\n",
       "      <th>desc</th>\n",
       "      <th>category</th>\n",
       "      <th>sameSite</th>\n",
       "    </tr>\n",
       "  </thead>\n",
       "  <tbody>\n",
       "    <tr>\n",
       "      <th>1</th>\n",
       "      <td>_gid</td>\n",
       "      <td>GA1.2.1609768839.1703155633</td>\n",
       "      <td>.100datingsite.com</td>\n",
       "      <td>/</td>\n",
       "      <td>1.703242e+09</td>\n",
       "      <td>31</td>\n",
       "      <td>False</td>\n",
       "      <td>False</td>\n",
       "      <td>False</td>\n",
       "      <td>False</td>\n",
       "      <td>Secure</td>\n",
       "      <td>443</td>\n",
       "      <td>_gid</td>\n",
       "      <td>Performance</td>\n",
       "      <td>NaN</td>\n",
       "    </tr>\n",
       "    <tr>\n",
       "      <th>2</th>\n",
       "      <td>_gat</td>\n",
       "      <td>1</td>\n",
       "      <td>.100datingsite.com</td>\n",
       "      <td>/</td>\n",
       "      <td>1.703156e+09</td>\n",
       "      <td>5</td>\n",
       "      <td>False</td>\n",
       "      <td>False</td>\n",
       "      <td>False</td>\n",
       "      <td>False</td>\n",
       "      <td>Secure</td>\n",
       "      <td>443</td>\n",
       "      <td>This cookie name is associated with Google Uni...</td>\n",
       "      <td>Performance</td>\n",
       "      <td>NaN</td>\n",
       "    </tr>\n",
       "    <tr>\n",
       "      <th>3</th>\n",
       "      <td>_ga</td>\n",
       "      <td>GA1.2.1594730030.1703155633</td>\n",
       "      <td>.100datingsite.com</td>\n",
       "      <td>/</td>\n",
       "      <td>1.737716e+09</td>\n",
       "      <td>30</td>\n",
       "      <td>False</td>\n",
       "      <td>False</td>\n",
       "      <td>False</td>\n",
       "      <td>False</td>\n",
       "      <td>Secure</td>\n",
       "      <td>443</td>\n",
       "      <td>This cookie name is associated with Google Uni...</td>\n",
       "      <td>Performance</td>\n",
       "      <td>NaN</td>\n",
       "    </tr>\n",
       "    <tr>\n",
       "      <th>5</th>\n",
       "      <td>_fbp</td>\n",
       "      <td>fb.2.1703196323660.2058557705</td>\n",
       "      <td>.104.com.tw</td>\n",
       "      <td>/</td>\n",
       "      <td>1.710972e+09</td>\n",
       "      <td>33</td>\n",
       "      <td>False</td>\n",
       "      <td>False</td>\n",
       "      <td>False</td>\n",
       "      <td>False</td>\n",
       "      <td>Secure</td>\n",
       "      <td>443</td>\n",
       "      <td>Used by Facebook to deliver a series of advert...</td>\n",
       "      <td>Targeting/Advertising</td>\n",
       "      <td>Lax</td>\n",
       "    </tr>\n",
       "    <tr>\n",
       "      <th>6</th>\n",
       "      <td>_clsk</td>\n",
       "      <td>166tg7v%7C1703196323932%7C1%7C0%7Cq.clarity.ms...</td>\n",
       "      <td>.104.com.tw</td>\n",
       "      <td>/</td>\n",
       "      <td>1.703283e+09</td>\n",
       "      <td>61</td>\n",
       "      <td>False</td>\n",
       "      <td>False</td>\n",
       "      <td>False</td>\n",
       "      <td>False</td>\n",
       "      <td>Secure</td>\n",
       "      <td>443</td>\n",
       "      <td>Used by Microsoft Clarity to connect multiple ...</td>\n",
       "      <td>Performance</td>\n",
       "      <td>NaN</td>\n",
       "    </tr>\n",
       "  </tbody>\n",
       "</table>\n",
       "</div>"
      ],
      "text/plain": [
       "    name                                              value  \\\n",
       "1   _gid                        GA1.2.1609768839.1703155633   \n",
       "2   _gat                                                  1   \n",
       "3    _ga                        GA1.2.1594730030.1703155633   \n",
       "5   _fbp                      fb.2.1703196323660.2058557705   \n",
       "6  _clsk  166tg7v%7C1703196323932%7C1%7C0%7Cq.clarity.ms...   \n",
       "\n",
       "               domain path       expires  size  httpOnly  secure  session  \\\n",
       "1  .100datingsite.com    /  1.703242e+09    31     False   False    False   \n",
       "2  .100datingsite.com    /  1.703156e+09     5     False   False    False   \n",
       "3  .100datingsite.com    /  1.737716e+09    30     False   False    False   \n",
       "5         .104.com.tw    /  1.710972e+09    33     False   False    False   \n",
       "6         .104.com.tw    /  1.703283e+09    61     False   False    False   \n",
       "\n",
       "   sameParty sourceScheme  sourcePort  \\\n",
       "1      False       Secure         443   \n",
       "2      False       Secure         443   \n",
       "3      False       Secure         443   \n",
       "5      False       Secure         443   \n",
       "6      False       Secure         443   \n",
       "\n",
       "                                                desc               category  \\\n",
       "1                                               _gid            Performance   \n",
       "2  This cookie name is associated with Google Uni...            Performance   \n",
       "3  This cookie name is associated with Google Uni...            Performance   \n",
       "5  Used by Facebook to deliver a series of advert...  Targeting/Advertising   \n",
       "6  Used by Microsoft Clarity to connect multiple ...            Performance   \n",
       "\n",
       "  sameSite  \n",
       "1      NaN  \n",
       "2      NaN  \n",
       "3      NaN  \n",
       "5      Lax  \n",
       "6      NaN  "
      ]
     },
     "execution_count": 31,
     "metadata": {},
     "output_type": "execute_result"
    }
   ],
   "source": [
    "df.head()"
   ]
  },
  {
   "cell_type": "code",
   "execution_count": 32,
   "id": "e55213b9",
   "metadata": {},
   "outputs": [],
   "source": [
    "df.drop(\"sameSite\", axis = 1, inplace = True)"
   ]
  },
  {
   "cell_type": "code",
   "execution_count": 33,
   "id": "6667b19e",
   "metadata": {},
   "outputs": [
    {
     "name": "stdout",
     "output_type": "stream",
     "text": [
      "4\n"
     ]
    }
   ],
   "source": [
    "from sklearn.feature_extraction.text import TfidfVectorizer\n",
    "\n",
    "text_cols = ['name', 'value', 'desc','domain']\n",
    "\n",
    "# Use TfidfVectorizer for text columns\n",
    "text_transformer = TfidfVectorizer()\n",
    "\n",
    "# Apply the transformer to text columns\n",
    "text_features = text_transformer.fit_transform(df[text_cols])\n",
    "\n",
    "# Display the transformed text features\n",
    "print(len(text_features.toarray()))"
   ]
  },
  {
   "cell_type": "code",
   "execution_count": 34,
   "id": "87755bd5",
   "metadata": {},
   "outputs": [
    {
     "name": "stdout",
     "output_type": "stream",
     "text": [
      "32387\n"
     ]
    }
   ],
   "source": [
    "from sklearn.preprocessing import OneHotEncoder\n",
    "\n",
    "category_cols = ['category']\n",
    "\n",
    "# Use OneHotEncoder for category column\n",
    "category_transformer = OneHotEncoder()\n",
    "\n",
    "# Apply the transformer to the category column\n",
    "category_features = category_transformer.fit_transform(df[category_cols])\n",
    "\n",
    "# Display the transformed category features\n",
    "print(len(category_features.toarray()))"
   ]
  },
  {
   "cell_type": "code",
   "execution_count": 35,
   "id": "42d3018a",
   "metadata": {},
   "outputs": [
    {
     "name": "stdout",
     "output_type": "stream",
     "text": [
      "32387\n"
     ]
    }
   ],
   "source": [
    "from sklearn.preprocessing import StandardScaler\n",
    "\n",
    "numeric_cols = ['size', 'expires']\n",
    "\n",
    "# Use StandardScaler for numeric columns\n",
    "numeric_transformer = StandardScaler()\n",
    "\n",
    "# Apply the transformer to numeric columns\n",
    "numeric_features = numeric_transformer.fit_transform(df[numeric_cols])\n",
    "\n",
    "# Display the transformed numeric features\n",
    "print(len(numeric_features))\n"
   ]
  },
  {
   "cell_type": "code",
   "execution_count": 36,
   "id": "8e341bd4",
   "metadata": {},
   "outputs": [],
   "source": [
    "bool_cols = ['httpOnly', 'secure', 'session']\n",
    "df[bool_cols] = df[bool_cols].apply(lambda x: x.apply(lambda y: 1 if y else 0))"
   ]
  },
  {
   "cell_type": "code",
   "execution_count": 37,
   "id": "f48c2b86",
   "metadata": {},
   "outputs": [
    {
     "data": {
      "text/plain": [
       "array(['Performance', 'Targeting/Advertising', 'Strictly Necessary',\n",
       "       'Functionality'], dtype=object)"
      ]
     },
     "execution_count": 37,
     "metadata": {},
     "output_type": "execute_result"
    }
   ],
   "source": [
    "df.head()\n",
    "df[\"category\"].unique()"
   ]
  },
  {
   "cell_type": "code",
   "execution_count": 38,
   "id": "693bdc78",
   "metadata": {},
   "outputs": [],
   "source": [
    "X = df.drop(\"category\", axis = 1)\n",
    "y = df.category"
   ]
  },
  {
   "cell_type": "code",
   "execution_count": 39,
   "id": "e026450d",
   "metadata": {},
   "outputs": [
    {
     "name": "stdout",
     "output_type": "stream",
     "text": [
      "[[-0.35720609  0.35674094  0.          0.          0.        ]\n",
      " [-0.66784328  0.3565915   0.          0.          0.        ]\n",
      " [-0.36915368  0.41640683  0.          0.          0.        ]\n",
      " ...\n",
      " [ 0.14459244  0.4108474   0.          1.          0.        ]\n",
      " [ 0.24017311 -2.59117998  1.          1.          1.        ]\n",
      " [ 0.24017311 -2.59117998  1.          1.          1.        ]]\n"
     ]
    }
   ],
   "source": [
    "from sklearn.compose import ColumnTransformer\n",
    "from sklearn.pipeline import Pipeline\n",
    "from sklearn.impute import SimpleImputer\n",
    "from sklearn.preprocessing import StandardScaler, OneHotEncoder\n",
    "from sklearn.feature_extraction.text import TfidfVectorizer\n",
    "import pandas as pd\n",
    "import numpy as np\n",
    "\n",
    "\n",
    "# Separate columns for transformation and remaining columns\n",
    "# text_cols = ['name', 'value', 'desc']\n",
    "numeric_cols = ['size', 'expires']\n",
    "bool_cols = ['httpOnly', 'secure', 'session']\n",
    "\n",
    "# Define transformers\n",
    "text_transformer = TfidfVectorizer()\n",
    "numeric_transformer = Pipeline(steps=[\n",
    "    ('imputer', SimpleImputer(strategy='median')),  # Handle missing values if any\n",
    "    ('scaler', StandardScaler())\n",
    "])\n",
    "bool_transformer = 'passthrough'  # No transformation needed for boolean columns\n",
    "\n",
    "# Apply transformers to the specified columns\n",
    "preprocessor = ColumnTransformer(\n",
    "    transformers=[\n",
    "#         ('text', text_transformer, text_cols),\n",
    "#         ('category', category_transformer, category_cols),\n",
    "        ('numeric', numeric_transformer, numeric_cols),\n",
    "        ('bool', bool_transformer, bool_cols),\n",
    "    ],\n",
    ")\n",
    "\n",
    "\n",
    "# Define the final pipeline\n",
    "pipeline = Pipeline(steps=[\n",
    "    ('preprocessor', preprocessor),\n",
    "])\n",
    "\n",
    "# Apply the transformation\n",
    "X_transformed = pipeline.fit_transform(X)\n",
    "\n",
    "# Display the transformed data\n",
    "print(X_transformed)\n"
   ]
  },
  {
   "cell_type": "code",
   "execution_count": 40,
   "id": "13c9f3d7",
   "metadata": {},
   "outputs": [
    {
     "data": {
      "text/html": [
       "<div>\n",
       "<style scoped>\n",
       "    .dataframe tbody tr th:only-of-type {\n",
       "        vertical-align: middle;\n",
       "    }\n",
       "\n",
       "    .dataframe tbody tr th {\n",
       "        vertical-align: top;\n",
       "    }\n",
       "\n",
       "    .dataframe thead th {\n",
       "        text-align: right;\n",
       "    }\n",
       "</style>\n",
       "<table border=\"1\" class=\"dataframe\">\n",
       "  <thead>\n",
       "    <tr style=\"text-align: right;\">\n",
       "      <th></th>\n",
       "      <th>Performance</th>\n",
       "      <th>Strictly Necessary</th>\n",
       "      <th>Targeting/Advertising</th>\n",
       "    </tr>\n",
       "  </thead>\n",
       "  <tbody>\n",
       "    <tr>\n",
       "      <th>1</th>\n",
       "      <td>True</td>\n",
       "      <td>False</td>\n",
       "      <td>False</td>\n",
       "    </tr>\n",
       "    <tr>\n",
       "      <th>2</th>\n",
       "      <td>True</td>\n",
       "      <td>False</td>\n",
       "      <td>False</td>\n",
       "    </tr>\n",
       "    <tr>\n",
       "      <th>3</th>\n",
       "      <td>True</td>\n",
       "      <td>False</td>\n",
       "      <td>False</td>\n",
       "    </tr>\n",
       "    <tr>\n",
       "      <th>5</th>\n",
       "      <td>False</td>\n",
       "      <td>False</td>\n",
       "      <td>True</td>\n",
       "    </tr>\n",
       "    <tr>\n",
       "      <th>6</th>\n",
       "      <td>True</td>\n",
       "      <td>False</td>\n",
       "      <td>False</td>\n",
       "    </tr>\n",
       "    <tr>\n",
       "      <th>...</th>\n",
       "      <td>...</td>\n",
       "      <td>...</td>\n",
       "      <td>...</td>\n",
       "    </tr>\n",
       "    <tr>\n",
       "      <th>65262</th>\n",
       "      <td>False</td>\n",
       "      <td>True</td>\n",
       "      <td>False</td>\n",
       "    </tr>\n",
       "    <tr>\n",
       "      <th>65273</th>\n",
       "      <td>False</td>\n",
       "      <td>True</td>\n",
       "      <td>False</td>\n",
       "    </tr>\n",
       "    <tr>\n",
       "      <th>65282</th>\n",
       "      <td>False</td>\n",
       "      <td>True</td>\n",
       "      <td>False</td>\n",
       "    </tr>\n",
       "    <tr>\n",
       "      <th>65286</th>\n",
       "      <td>False</td>\n",
       "      <td>True</td>\n",
       "      <td>False</td>\n",
       "    </tr>\n",
       "    <tr>\n",
       "      <th>65288</th>\n",
       "      <td>False</td>\n",
       "      <td>True</td>\n",
       "      <td>False</td>\n",
       "    </tr>\n",
       "  </tbody>\n",
       "</table>\n",
       "<p>32387 rows × 3 columns</p>\n",
       "</div>"
      ],
      "text/plain": [
       "       Performance  Strictly Necessary  Targeting/Advertising\n",
       "1             True               False                  False\n",
       "2             True               False                  False\n",
       "3             True               False                  False\n",
       "5            False               False                   True\n",
       "6             True               False                  False\n",
       "...            ...                 ...                    ...\n",
       "65262        False                True                  False\n",
       "65273        False                True                  False\n",
       "65282        False                True                  False\n",
       "65286        False                True                  False\n",
       "65288        False                True                  False\n",
       "\n",
       "[32387 rows x 3 columns]"
      ]
     },
     "execution_count": 40,
     "metadata": {},
     "output_type": "execute_result"
    }
   ],
   "source": [
    "y_labeled = pd.get_dummies(y, drop_first=True)\n",
    "y_labeled"
   ]
  },
  {
   "cell_type": "code",
   "execution_count": 41,
   "id": "be2e2451",
   "metadata": {},
   "outputs": [
    {
     "data": {
      "text/plain": [
       "(32387, 5)"
      ]
     },
     "execution_count": 41,
     "metadata": {},
     "output_type": "execute_result"
    }
   ],
   "source": [
    "X_transformed.shape"
   ]
  },
  {
   "cell_type": "code",
   "execution_count": 42,
   "id": "922a269d",
   "metadata": {},
   "outputs": [
    {
     "data": {
      "text/plain": [
       "(32387, 3)"
      ]
     },
     "execution_count": 42,
     "metadata": {},
     "output_type": "execute_result"
    }
   ],
   "source": [
    "y_labeled.shape"
   ]
  },
  {
   "cell_type": "code",
   "execution_count": 43,
   "id": "8602ed83",
   "metadata": {},
   "outputs": [],
   "source": [
    "from sklearn.model_selection import train_test_split\n",
    "X_train, X_test, y_train, y_test  = train_test_split(X_transformed, y_labeled, random_state = 42, test_size = 0.2)\n"
   ]
  },
  {
   "cell_type": "code",
   "execution_count": 44,
   "id": "21c5545a",
   "metadata": {},
   "outputs": [
    {
     "name": "stdout",
     "output_type": "stream",
     "text": [
      "(25909, 5)\n",
      "(6478, 5)\n",
      "(25909, 3)\n",
      "(6478, 3)\n"
     ]
    }
   ],
   "source": [
    "print(X_train.shape)\n",
    "print(X_test.shape)\n",
    "print(y_train.shape)\n",
    "print(y_test.shape)"
   ]
  },
  {
   "cell_type": "code",
   "execution_count": 45,
   "id": "4d903541",
   "metadata": {},
   "outputs": [],
   "source": [
    "# APPLYING Random Forest Classifier to the dataset where there is duplicated values. Empty category is removed."
   ]
  },
  {
   "cell_type": "code",
   "execution_count": 46,
   "id": "c136f83a",
   "metadata": {},
   "outputs": [
    {
     "data": {
      "text/html": [
       "<style>#sk-container-id-1 {color: black;}#sk-container-id-1 pre{padding: 0;}#sk-container-id-1 div.sk-toggleable {background-color: white;}#sk-container-id-1 label.sk-toggleable__label {cursor: pointer;display: block;width: 100%;margin-bottom: 0;padding: 0.3em;box-sizing: border-box;text-align: center;}#sk-container-id-1 label.sk-toggleable__label-arrow:before {content: \"▸\";float: left;margin-right: 0.25em;color: #696969;}#sk-container-id-1 label.sk-toggleable__label-arrow:hover:before {color: black;}#sk-container-id-1 div.sk-estimator:hover label.sk-toggleable__label-arrow:before {color: black;}#sk-container-id-1 div.sk-toggleable__content {max-height: 0;max-width: 0;overflow: hidden;text-align: left;background-color: #f0f8ff;}#sk-container-id-1 div.sk-toggleable__content pre {margin: 0.2em;color: black;border-radius: 0.25em;background-color: #f0f8ff;}#sk-container-id-1 input.sk-toggleable__control:checked~div.sk-toggleable__content {max-height: 200px;max-width: 100%;overflow: auto;}#sk-container-id-1 input.sk-toggleable__control:checked~label.sk-toggleable__label-arrow:before {content: \"▾\";}#sk-container-id-1 div.sk-estimator input.sk-toggleable__control:checked~label.sk-toggleable__label {background-color: #d4ebff;}#sk-container-id-1 div.sk-label input.sk-toggleable__control:checked~label.sk-toggleable__label {background-color: #d4ebff;}#sk-container-id-1 input.sk-hidden--visually {border: 0;clip: rect(1px 1px 1px 1px);clip: rect(1px, 1px, 1px, 1px);height: 1px;margin: -1px;overflow: hidden;padding: 0;position: absolute;width: 1px;}#sk-container-id-1 div.sk-estimator {font-family: monospace;background-color: #f0f8ff;border: 1px dotted black;border-radius: 0.25em;box-sizing: border-box;margin-bottom: 0.5em;}#sk-container-id-1 div.sk-estimator:hover {background-color: #d4ebff;}#sk-container-id-1 div.sk-parallel-item::after {content: \"\";width: 100%;border-bottom: 1px solid gray;flex-grow: 1;}#sk-container-id-1 div.sk-label:hover label.sk-toggleable__label {background-color: #d4ebff;}#sk-container-id-1 div.sk-serial::before {content: \"\";position: absolute;border-left: 1px solid gray;box-sizing: border-box;top: 0;bottom: 0;left: 50%;z-index: 0;}#sk-container-id-1 div.sk-serial {display: flex;flex-direction: column;align-items: center;background-color: white;padding-right: 0.2em;padding-left: 0.2em;position: relative;}#sk-container-id-1 div.sk-item {position: relative;z-index: 1;}#sk-container-id-1 div.sk-parallel {display: flex;align-items: stretch;justify-content: center;background-color: white;position: relative;}#sk-container-id-1 div.sk-item::before, #sk-container-id-1 div.sk-parallel-item::before {content: \"\";position: absolute;border-left: 1px solid gray;box-sizing: border-box;top: 0;bottom: 0;left: 50%;z-index: -1;}#sk-container-id-1 div.sk-parallel-item {display: flex;flex-direction: column;z-index: 1;position: relative;background-color: white;}#sk-container-id-1 div.sk-parallel-item:first-child::after {align-self: flex-end;width: 50%;}#sk-container-id-1 div.sk-parallel-item:last-child::after {align-self: flex-start;width: 50%;}#sk-container-id-1 div.sk-parallel-item:only-child::after {width: 0;}#sk-container-id-1 div.sk-dashed-wrapped {border: 1px dashed gray;margin: 0 0.4em 0.5em 0.4em;box-sizing: border-box;padding-bottom: 0.4em;background-color: white;}#sk-container-id-1 div.sk-label label {font-family: monospace;font-weight: bold;display: inline-block;line-height: 1.2em;}#sk-container-id-1 div.sk-label-container {text-align: center;}#sk-container-id-1 div.sk-container {/* jupyter's `normalize.less` sets `[hidden] { display: none; }` but bootstrap.min.css set `[hidden] { display: none !important; }` so we also need the `!important` here to be able to override the default hidden behavior on the sphinx rendered scikit-learn.org. See: https://github.com/scikit-learn/scikit-learn/issues/21755 */display: inline-block !important;position: relative;}#sk-container-id-1 div.sk-text-repr-fallback {display: none;}</style><div id=\"sk-container-id-1\" class=\"sk-top-container\"><div class=\"sk-text-repr-fallback\"><pre>RandomForestClassifier()</pre><b>In a Jupyter environment, please rerun this cell to show the HTML representation or trust the notebook. <br />On GitHub, the HTML representation is unable to render, please try loading this page with nbviewer.org.</b></div><div class=\"sk-container\" hidden><div class=\"sk-item\"><div class=\"sk-estimator sk-toggleable\"><input class=\"sk-toggleable__control sk-hidden--visually\" id=\"sk-estimator-id-1\" type=\"checkbox\" checked><label for=\"sk-estimator-id-1\" class=\"sk-toggleable__label sk-toggleable__label-arrow\">RandomForestClassifier</label><div class=\"sk-toggleable__content\"><pre>RandomForestClassifier()</pre></div></div></div></div></div>"
      ],
      "text/plain": [
       "RandomForestClassifier()"
      ]
     },
     "execution_count": 46,
     "metadata": {},
     "output_type": "execute_result"
    }
   ],
   "source": [
    "from sklearn.ensemble import RandomForestClassifier\n",
    "rf = RandomForestClassifier()\n",
    "rf.fit(X_train, y_train)"
   ]
  },
  {
   "cell_type": "code",
   "execution_count": 47,
   "id": "e3c7b6ae",
   "metadata": {},
   "outputs": [],
   "source": [
    "y_predict = rf.predict(X_test)"
   ]
  },
  {
   "cell_type": "code",
   "execution_count": 48,
   "id": "e05592ce",
   "metadata": {},
   "outputs": [
    {
     "name": "stdout",
     "output_type": "stream",
     "text": [
      "Accuracy: 92.87%\n"
     ]
    }
   ],
   "source": [
    "from sklearn.metrics import accuracy_score\n",
    "\n",
    "# Assuming y_test and y_predict are the true labels and predicted labels, respectively\n",
    "accuracy = accuracy_score(y_test, y_predict)\n",
    "\n",
    "print(f'Accuracy: {accuracy:.2%}')"
   ]
  },
  {
   "cell_type": "code",
   "execution_count": 49,
   "id": "1cf65f9e",
   "metadata": {},
   "outputs": [
    {
     "name": "stdout",
     "output_type": "stream",
     "text": [
      "Requirement already satisfied: xgboost in c:\\users\\lenovo\\anaconda3\\lib\\site-packages (2.0.3)\n",
      "Requirement already satisfied: numpy in c:\\users\\lenovo\\anaconda3\\lib\\site-packages (from xgboost) (1.24.3)\n",
      "Requirement already satisfied: scipy in c:\\users\\lenovo\\anaconda3\\lib\\site-packages (from xgboost) (1.11.1)\n"
     ]
    }
   ],
   "source": [
    "!pip install xgboost"
   ]
  },
  {
   "cell_type": "code",
   "execution_count": 50,
   "id": "4e6935a5",
   "metadata": {},
   "outputs": [],
   "source": [
    "import xgboost as xgb"
   ]
  },
  {
   "cell_type": "code",
   "execution_count": 51,
   "id": "978cccc7",
   "metadata": {},
   "outputs": [
    {
     "name": "stdout",
     "output_type": "stream",
     "text": [
      "Accuracy: 91.90%\n"
     ]
    }
   ],
   "source": [
    "ab = xgb.XGBClassifier()\n",
    "ab.fit(X_train, y_train)\n",
    "y_predict = ab.predict(X_test)\n",
    "accuracy = accuracy_score(y_test, y_predict)\n",
    "print(f'Accuracy: {accuracy:.2%}')"
   ]
  },
  {
   "cell_type": "code",
   "execution_count": null,
   "id": "c4593030",
   "metadata": {},
   "outputs": [],
   "source": []
  },
  {
   "cell_type": "code",
   "execution_count": null,
   "id": "8b0a319e",
   "metadata": {},
   "outputs": [],
   "source": []
  },
  {
   "cell_type": "code",
   "execution_count": 52,
   "id": "c650decf",
   "metadata": {},
   "outputs": [],
   "source": [
    "# DF with no duplicate rows"
   ]
  },
  {
   "cell_type": "code",
   "execution_count": 53,
   "id": "4f0f7a1e",
   "metadata": {},
   "outputs": [],
   "source": [
    "df_no_dup = df.drop_duplicates()"
   ]
  },
  {
   "cell_type": "code",
   "execution_count": 54,
   "id": "eba0afe5",
   "metadata": {},
   "outputs": [
    {
     "data": {
      "text/plain": [
       "30232"
      ]
     },
     "execution_count": 54,
     "metadata": {},
     "output_type": "execute_result"
    }
   ],
   "source": [
    "len(df_no_dup)"
   ]
  },
  {
   "cell_type": "code",
   "execution_count": 55,
   "id": "bc873335",
   "metadata": {},
   "outputs": [],
   "source": [
    "X_no_dup = df_no_dup.drop(\"category\", axis = 1)\n",
    "y_no_dup = df_no_dup.category"
   ]
  },
  {
   "cell_type": "code",
   "execution_count": 56,
   "id": "dfc7057e",
   "metadata": {},
   "outputs": [
    {
     "name": "stdout",
     "output_type": "stream",
     "text": [
      "[[-0.35720609  0.35674094  0.          0.          0.        ]\n",
      " [-0.66784328  0.3565915   0.          0.          0.        ]\n",
      " [-0.36915368  0.41640683  0.          0.          0.        ]\n",
      " ...\n",
      " [ 0.14459244  0.4108474   0.          1.          0.        ]\n",
      " [ 0.24017311 -2.59117998  1.          1.          1.        ]\n",
      " [ 0.24017311 -2.59117998  1.          1.          1.        ]]\n"
     ]
    }
   ],
   "source": [
    "from sklearn.compose import ColumnTransformer\n",
    "from sklearn.pipeline import Pipeline\n",
    "from sklearn.impute import SimpleImputer\n",
    "from sklearn.preprocessing import StandardScaler, OneHotEncoder\n",
    "from sklearn.feature_extraction.text import TfidfVectorizer\n",
    "import pandas as pd\n",
    "import numpy as np\n",
    "\n",
    "\n",
    "# Separate columns for transformation and remaining columns\n",
    "# text_cols = ['name', 'value', 'desc']\n",
    "numeric_cols = ['size', 'expires']\n",
    "bool_cols = ['httpOnly', 'secure', 'session']\n",
    "\n",
    "# Define transformers\n",
    "text_transformer = TfidfVectorizer()\n",
    "numeric_transformer = Pipeline(steps=[\n",
    "    ('imputer', SimpleImputer(strategy='median')),  # Handle missing values if any\n",
    "    ('scaler', StandardScaler())\n",
    "])\n",
    "bool_transformer = 'passthrough'  # No transformation needed for boolean columns\n",
    "\n",
    "# Apply transformers to the specified columns\n",
    "preprocessor = ColumnTransformer(\n",
    "    transformers=[\n",
    "#         ('text', text_transformer, text_cols),\n",
    "#         ('category', category_transformer, category_cols),\n",
    "        ('numeric', numeric_transformer, numeric_cols),\n",
    "        ('bool', bool_transformer, bool_cols),\n",
    "    ],\n",
    ")\n",
    "\n",
    "\n",
    "# Define the final pipeline\n",
    "pipeline = Pipeline(steps=[\n",
    "    ('preprocessor', preprocessor),\n",
    "])\n",
    "\n",
    "# Apply the transformation\n",
    "X_transformed = pipeline.fit_transform(X)\n",
    "\n",
    "# Display the transformed data\n",
    "print(X_transformed)\n"
   ]
  },
  {
   "cell_type": "code",
   "execution_count": 57,
   "id": "6b4de97a",
   "metadata": {},
   "outputs": [],
   "source": [
    "y_labeled = pd.get_dummies(y, drop_first=True)"
   ]
  },
  {
   "cell_type": "code",
   "execution_count": 58,
   "id": "548d1de4",
   "metadata": {},
   "outputs": [],
   "source": [
    "from sklearn.model_selection import train_test_split\n",
    "X_train, X_test, y_train, y_test  = train_test_split(X_transformed, y_labeled, random_state = 42, test_size = 0.2)"
   ]
  },
  {
   "cell_type": "code",
   "execution_count": 59,
   "id": "a46af662",
   "metadata": {},
   "outputs": [],
   "source": [
    "# Applying Random Forest to the dataset where there are no any duplicate rows"
   ]
  },
  {
   "cell_type": "code",
   "execution_count": 60,
   "id": "32917197",
   "metadata": {},
   "outputs": [
    {
     "data": {
      "text/html": [
       "<style>#sk-container-id-2 {color: black;}#sk-container-id-2 pre{padding: 0;}#sk-container-id-2 div.sk-toggleable {background-color: white;}#sk-container-id-2 label.sk-toggleable__label {cursor: pointer;display: block;width: 100%;margin-bottom: 0;padding: 0.3em;box-sizing: border-box;text-align: center;}#sk-container-id-2 label.sk-toggleable__label-arrow:before {content: \"▸\";float: left;margin-right: 0.25em;color: #696969;}#sk-container-id-2 label.sk-toggleable__label-arrow:hover:before {color: black;}#sk-container-id-2 div.sk-estimator:hover label.sk-toggleable__label-arrow:before {color: black;}#sk-container-id-2 div.sk-toggleable__content {max-height: 0;max-width: 0;overflow: hidden;text-align: left;background-color: #f0f8ff;}#sk-container-id-2 div.sk-toggleable__content pre {margin: 0.2em;color: black;border-radius: 0.25em;background-color: #f0f8ff;}#sk-container-id-2 input.sk-toggleable__control:checked~div.sk-toggleable__content {max-height: 200px;max-width: 100%;overflow: auto;}#sk-container-id-2 input.sk-toggleable__control:checked~label.sk-toggleable__label-arrow:before {content: \"▾\";}#sk-container-id-2 div.sk-estimator input.sk-toggleable__control:checked~label.sk-toggleable__label {background-color: #d4ebff;}#sk-container-id-2 div.sk-label input.sk-toggleable__control:checked~label.sk-toggleable__label {background-color: #d4ebff;}#sk-container-id-2 input.sk-hidden--visually {border: 0;clip: rect(1px 1px 1px 1px);clip: rect(1px, 1px, 1px, 1px);height: 1px;margin: -1px;overflow: hidden;padding: 0;position: absolute;width: 1px;}#sk-container-id-2 div.sk-estimator {font-family: monospace;background-color: #f0f8ff;border: 1px dotted black;border-radius: 0.25em;box-sizing: border-box;margin-bottom: 0.5em;}#sk-container-id-2 div.sk-estimator:hover {background-color: #d4ebff;}#sk-container-id-2 div.sk-parallel-item::after {content: \"\";width: 100%;border-bottom: 1px solid gray;flex-grow: 1;}#sk-container-id-2 div.sk-label:hover label.sk-toggleable__label {background-color: #d4ebff;}#sk-container-id-2 div.sk-serial::before {content: \"\";position: absolute;border-left: 1px solid gray;box-sizing: border-box;top: 0;bottom: 0;left: 50%;z-index: 0;}#sk-container-id-2 div.sk-serial {display: flex;flex-direction: column;align-items: center;background-color: white;padding-right: 0.2em;padding-left: 0.2em;position: relative;}#sk-container-id-2 div.sk-item {position: relative;z-index: 1;}#sk-container-id-2 div.sk-parallel {display: flex;align-items: stretch;justify-content: center;background-color: white;position: relative;}#sk-container-id-2 div.sk-item::before, #sk-container-id-2 div.sk-parallel-item::before {content: \"\";position: absolute;border-left: 1px solid gray;box-sizing: border-box;top: 0;bottom: 0;left: 50%;z-index: -1;}#sk-container-id-2 div.sk-parallel-item {display: flex;flex-direction: column;z-index: 1;position: relative;background-color: white;}#sk-container-id-2 div.sk-parallel-item:first-child::after {align-self: flex-end;width: 50%;}#sk-container-id-2 div.sk-parallel-item:last-child::after {align-self: flex-start;width: 50%;}#sk-container-id-2 div.sk-parallel-item:only-child::after {width: 0;}#sk-container-id-2 div.sk-dashed-wrapped {border: 1px dashed gray;margin: 0 0.4em 0.5em 0.4em;box-sizing: border-box;padding-bottom: 0.4em;background-color: white;}#sk-container-id-2 div.sk-label label {font-family: monospace;font-weight: bold;display: inline-block;line-height: 1.2em;}#sk-container-id-2 div.sk-label-container {text-align: center;}#sk-container-id-2 div.sk-container {/* jupyter's `normalize.less` sets `[hidden] { display: none; }` but bootstrap.min.css set `[hidden] { display: none !important; }` so we also need the `!important` here to be able to override the default hidden behavior on the sphinx rendered scikit-learn.org. See: https://github.com/scikit-learn/scikit-learn/issues/21755 */display: inline-block !important;position: relative;}#sk-container-id-2 div.sk-text-repr-fallback {display: none;}</style><div id=\"sk-container-id-2\" class=\"sk-top-container\"><div class=\"sk-text-repr-fallback\"><pre>RandomForestClassifier()</pre><b>In a Jupyter environment, please rerun this cell to show the HTML representation or trust the notebook. <br />On GitHub, the HTML representation is unable to render, please try loading this page with nbviewer.org.</b></div><div class=\"sk-container\" hidden><div class=\"sk-item\"><div class=\"sk-estimator sk-toggleable\"><input class=\"sk-toggleable__control sk-hidden--visually\" id=\"sk-estimator-id-2\" type=\"checkbox\" checked><label for=\"sk-estimator-id-2\" class=\"sk-toggleable__label sk-toggleable__label-arrow\">RandomForestClassifier</label><div class=\"sk-toggleable__content\"><pre>RandomForestClassifier()</pre></div></div></div></div></div>"
      ],
      "text/plain": [
       "RandomForestClassifier()"
      ]
     },
     "execution_count": 60,
     "metadata": {},
     "output_type": "execute_result"
    }
   ],
   "source": [
    "from sklearn.ensemble import RandomForestClassifier\n",
    "rf = RandomForestClassifier()\n",
    "rf.fit(X_train, y_train)"
   ]
  },
  {
   "cell_type": "code",
   "execution_count": 61,
   "id": "1abdfc42",
   "metadata": {},
   "outputs": [],
   "source": [
    "\n",
    "y_predict = rf.predict(X_test)"
   ]
  },
  {
   "cell_type": "code",
   "execution_count": 62,
   "id": "0a815b79",
   "metadata": {},
   "outputs": [
    {
     "name": "stdout",
     "output_type": "stream",
     "text": [
      "Accuracy: 92.82%\n"
     ]
    }
   ],
   "source": [
    "from sklearn.metrics import accuracy_score\n",
    "\n",
    "# Assuming y_test and y_predict are the true labels and predicted labels, respectively\n",
    "accuracy = accuracy_score(y_test, y_predict)\n",
    "\n",
    "print(f'Accuracy: {accuracy:.2%}')"
   ]
  },
  {
   "cell_type": "code",
   "execution_count": 63,
   "id": "35528048",
   "metadata": {},
   "outputs": [],
   "source": [
    "# Accuracy of randomforest is 91.90% if there are no duplicates."
   ]
  },
  {
   "cell_type": "code",
   "execution_count": 64,
   "id": "2844033c",
   "metadata": {},
   "outputs": [],
   "source": [
    "# Hyperparameter tuning when only duplicate rows are removed"
   ]
  },
  {
   "cell_type": "code",
   "execution_count": 65,
   "id": "ab150bc5",
   "metadata": {},
   "outputs": [
    {
     "data": {
      "text/html": [
       "<style>#sk-container-id-3 {color: black;}#sk-container-id-3 pre{padding: 0;}#sk-container-id-3 div.sk-toggleable {background-color: white;}#sk-container-id-3 label.sk-toggleable__label {cursor: pointer;display: block;width: 100%;margin-bottom: 0;padding: 0.3em;box-sizing: border-box;text-align: center;}#sk-container-id-3 label.sk-toggleable__label-arrow:before {content: \"▸\";float: left;margin-right: 0.25em;color: #696969;}#sk-container-id-3 label.sk-toggleable__label-arrow:hover:before {color: black;}#sk-container-id-3 div.sk-estimator:hover label.sk-toggleable__label-arrow:before {color: black;}#sk-container-id-3 div.sk-toggleable__content {max-height: 0;max-width: 0;overflow: hidden;text-align: left;background-color: #f0f8ff;}#sk-container-id-3 div.sk-toggleable__content pre {margin: 0.2em;color: black;border-radius: 0.25em;background-color: #f0f8ff;}#sk-container-id-3 input.sk-toggleable__control:checked~div.sk-toggleable__content {max-height: 200px;max-width: 100%;overflow: auto;}#sk-container-id-3 input.sk-toggleable__control:checked~label.sk-toggleable__label-arrow:before {content: \"▾\";}#sk-container-id-3 div.sk-estimator input.sk-toggleable__control:checked~label.sk-toggleable__label {background-color: #d4ebff;}#sk-container-id-3 div.sk-label input.sk-toggleable__control:checked~label.sk-toggleable__label {background-color: #d4ebff;}#sk-container-id-3 input.sk-hidden--visually {border: 0;clip: rect(1px 1px 1px 1px);clip: rect(1px, 1px, 1px, 1px);height: 1px;margin: -1px;overflow: hidden;padding: 0;position: absolute;width: 1px;}#sk-container-id-3 div.sk-estimator {font-family: monospace;background-color: #f0f8ff;border: 1px dotted black;border-radius: 0.25em;box-sizing: border-box;margin-bottom: 0.5em;}#sk-container-id-3 div.sk-estimator:hover {background-color: #d4ebff;}#sk-container-id-3 div.sk-parallel-item::after {content: \"\";width: 100%;border-bottom: 1px solid gray;flex-grow: 1;}#sk-container-id-3 div.sk-label:hover label.sk-toggleable__label {background-color: #d4ebff;}#sk-container-id-3 div.sk-serial::before {content: \"\";position: absolute;border-left: 1px solid gray;box-sizing: border-box;top: 0;bottom: 0;left: 50%;z-index: 0;}#sk-container-id-3 div.sk-serial {display: flex;flex-direction: column;align-items: center;background-color: white;padding-right: 0.2em;padding-left: 0.2em;position: relative;}#sk-container-id-3 div.sk-item {position: relative;z-index: 1;}#sk-container-id-3 div.sk-parallel {display: flex;align-items: stretch;justify-content: center;background-color: white;position: relative;}#sk-container-id-3 div.sk-item::before, #sk-container-id-3 div.sk-parallel-item::before {content: \"\";position: absolute;border-left: 1px solid gray;box-sizing: border-box;top: 0;bottom: 0;left: 50%;z-index: -1;}#sk-container-id-3 div.sk-parallel-item {display: flex;flex-direction: column;z-index: 1;position: relative;background-color: white;}#sk-container-id-3 div.sk-parallel-item:first-child::after {align-self: flex-end;width: 50%;}#sk-container-id-3 div.sk-parallel-item:last-child::after {align-self: flex-start;width: 50%;}#sk-container-id-3 div.sk-parallel-item:only-child::after {width: 0;}#sk-container-id-3 div.sk-dashed-wrapped {border: 1px dashed gray;margin: 0 0.4em 0.5em 0.4em;box-sizing: border-box;padding-bottom: 0.4em;background-color: white;}#sk-container-id-3 div.sk-label label {font-family: monospace;font-weight: bold;display: inline-block;line-height: 1.2em;}#sk-container-id-3 div.sk-label-container {text-align: center;}#sk-container-id-3 div.sk-container {/* jupyter's `normalize.less` sets `[hidden] { display: none; }` but bootstrap.min.css set `[hidden] { display: none !important; }` so we also need the `!important` here to be able to override the default hidden behavior on the sphinx rendered scikit-learn.org. See: https://github.com/scikit-learn/scikit-learn/issues/21755 */display: inline-block !important;position: relative;}#sk-container-id-3 div.sk-text-repr-fallback {display: none;}</style><div id=\"sk-container-id-3\" class=\"sk-top-container\"><div class=\"sk-text-repr-fallback\"><pre>GridSearchCV(cv=5, estimator=RandomForestClassifier(),\n",
       "             param_grid=[{&#x27;max_depth&#x27;: [None, 10, 20, 30],\n",
       "                          &#x27;min_samples_leaf&#x27;: [1, 2, 4],\n",
       "                          &#x27;min_samples_split&#x27;: [2, 5, 10],\n",
       "                          &#x27;n_estimators&#x27;: [50, 100, 200]}],\n",
       "             scoring=&#x27;accuracy&#x27;)</pre><b>In a Jupyter environment, please rerun this cell to show the HTML representation or trust the notebook. <br />On GitHub, the HTML representation is unable to render, please try loading this page with nbviewer.org.</b></div><div class=\"sk-container\" hidden><div class=\"sk-item sk-dashed-wrapped\"><div class=\"sk-label-container\"><div class=\"sk-label sk-toggleable\"><input class=\"sk-toggleable__control sk-hidden--visually\" id=\"sk-estimator-id-3\" type=\"checkbox\" ><label for=\"sk-estimator-id-3\" class=\"sk-toggleable__label sk-toggleable__label-arrow\">GridSearchCV</label><div class=\"sk-toggleable__content\"><pre>GridSearchCV(cv=5, estimator=RandomForestClassifier(),\n",
       "             param_grid=[{&#x27;max_depth&#x27;: [None, 10, 20, 30],\n",
       "                          &#x27;min_samples_leaf&#x27;: [1, 2, 4],\n",
       "                          &#x27;min_samples_split&#x27;: [2, 5, 10],\n",
       "                          &#x27;n_estimators&#x27;: [50, 100, 200]}],\n",
       "             scoring=&#x27;accuracy&#x27;)</pre></div></div></div><div class=\"sk-parallel\"><div class=\"sk-parallel-item\"><div class=\"sk-item\"><div class=\"sk-label-container\"><div class=\"sk-label sk-toggleable\"><input class=\"sk-toggleable__control sk-hidden--visually\" id=\"sk-estimator-id-4\" type=\"checkbox\" ><label for=\"sk-estimator-id-4\" class=\"sk-toggleable__label sk-toggleable__label-arrow\">estimator: RandomForestClassifier</label><div class=\"sk-toggleable__content\"><pre>RandomForestClassifier()</pre></div></div></div><div class=\"sk-serial\"><div class=\"sk-item\"><div class=\"sk-estimator sk-toggleable\"><input class=\"sk-toggleable__control sk-hidden--visually\" id=\"sk-estimator-id-5\" type=\"checkbox\" ><label for=\"sk-estimator-id-5\" class=\"sk-toggleable__label sk-toggleable__label-arrow\">RandomForestClassifier</label><div class=\"sk-toggleable__content\"><pre>RandomForestClassifier()</pre></div></div></div></div></div></div></div></div></div></div>"
      ],
      "text/plain": [
       "GridSearchCV(cv=5, estimator=RandomForestClassifier(),\n",
       "             param_grid=[{'max_depth': [None, 10, 20, 30],\n",
       "                          'min_samples_leaf': [1, 2, 4],\n",
       "                          'min_samples_split': [2, 5, 10],\n",
       "                          'n_estimators': [50, 100, 200]}],\n",
       "             scoring='accuracy')"
      ]
     },
     "execution_count": 65,
     "metadata": {},
     "output_type": "execute_result"
    }
   ],
   "source": [
    "from sklearn.ensemble import RandomForestClassifier\n",
    "rf = RandomForestClassifier()\n",
    "\n",
    "from sklearn.model_selection import GridSearchCV\n",
    "parameters = [{\n",
    "    'n_estimators': [50, 100, 200],          # Number of trees in the forest\n",
    "    'max_depth': [None, 10, 20, 30],         # Maximum depth of the tree\n",
    "    'min_samples_split': [2, 5, 10],         # Minimum number of samples required to split an internal node\n",
    "    'min_samples_leaf': [1, 2, 4]            # Minimum number of samples required to be at a leaf node\n",
    "}]\n",
    "grid_search = GridSearchCV(estimator=rf, \n",
    "                           param_grid=parameters, \n",
    "                           cv=5, \n",
    "                           scoring='accuracy')\n",
    "\n",
    "grid_search.fit(X_train, y_train)"
   ]
  },
  {
   "cell_type": "code",
   "execution_count": 66,
   "id": "6e238c94",
   "metadata": {},
   "outputs": [],
   "source": [
    "accuracy = grid_search.best_score_"
   ]
  },
  {
   "cell_type": "code",
   "execution_count": 67,
   "id": "68298546",
   "metadata": {},
   "outputs": [
    {
     "data": {
      "text/plain": [
       "0.9263191793248063"
      ]
     },
     "execution_count": 67,
     "metadata": {},
     "output_type": "execute_result"
    }
   ],
   "source": [
    "accuracy"
   ]
  },
  {
   "cell_type": "code",
   "execution_count": 68,
   "id": "fa87444a",
   "metadata": {},
   "outputs": [
    {
     "data": {
      "text/plain": [
       "{'max_depth': 20,\n",
       " 'min_samples_leaf': 1,\n",
       " 'min_samples_split': 2,\n",
       " 'n_estimators': 50}"
      ]
     },
     "execution_count": 68,
     "metadata": {},
     "output_type": "execute_result"
    }
   ],
   "source": [
    "grid_search.best_params_"
   ]
  },
  {
   "cell_type": "code",
   "execution_count": 108,
   "id": "3804f786",
   "metadata": {},
   "outputs": [],
   "source": [
    "from sklearn.ensemble import RandomForestClassifier\n",
    "rf = RandomForestClassifier(max_depth = 20, min_samples_leaf = 1, min_samples_split=2,n_estimators =100 )\n",
    "rf.fit(X_train, y_train)\n",
    "y_predict = rf.predict(X_test)"
   ]
  },
  {
   "cell_type": "code",
   "execution_count": 109,
   "id": "9f207130",
   "metadata": {},
   "outputs": [
    {
     "name": "stdout",
     "output_type": "stream",
     "text": [
      "Accuracy: 93.28%\n"
     ]
    }
   ],
   "source": [
    "from sklearn.metrics import accuracy_score\n",
    "\n",
    "# Assuming y_test and y_predict are the true labels and predicted labels, respectively\n",
    "accuracy = accuracy_score(y_test, y_predict)\n",
    "\n",
    "print(f'Accuracy: {accuracy:.2%}')    # This is the accuracy after hyper parameter tuning in random forest where dataset has no duplicate rows and names."
   ]
  },
  {
   "cell_type": "code",
   "execution_count": null,
   "id": "ae2d8448",
   "metadata": {},
   "outputs": [],
   "source": []
  },
  {
   "cell_type": "code",
   "execution_count": null,
   "id": "ec445e92",
   "metadata": {},
   "outputs": [],
   "source": []
  }
 ],
 "metadata": {
  "kernelspec": {
   "display_name": "Python 3 (ipykernel)",
   "language": "python",
   "name": "python3"
  },
  "language_info": {
   "codemirror_mode": {
    "name": "ipython",
    "version": 3
   },
   "file_extension": ".py",
   "mimetype": "text/x-python",
   "name": "python",
   "nbconvert_exporter": "python",
   "pygments_lexer": "ipython3",
   "version": "3.11.5"
  }
 },
 "nbformat": 4,
 "nbformat_minor": 5
}
